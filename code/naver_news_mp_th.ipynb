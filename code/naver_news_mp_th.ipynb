{
 "cells": [
  {
   "cell_type": "code",
   "execution_count": 1,
   "metadata": {},
   "outputs": [],
   "source": [
    "import multiprocessing as mp\n",
    "import threading as th\n",
    "import pickle\n",
    "import requests\n",
    "from bs4 import BeautifulSoup as bs"
   ]
  },
  {
   "cell_type": "code",
   "execution_count": 2,
   "metadata": {},
   "outputs": [],
   "source": [
    "sids = {\n",
    "    100: \"정치\",\n",
    "    101: \"경제\",\n",
    "    102: \"사회\",\n",
    "    103: \"생활/문화\",\n",
    "    104: \"세계\",\n",
    "    105: \"IT/과학\",\n",
    "}\n",
    "\n",
    "start_pg, end_pg = 1, 12"
   ]
  },
  {
   "cell_type": "code",
   "execution_count": 3,
   "metadata": {},
   "outputs": [],
   "source": [
    "def save_pkl(path, data):\n",
    "    with open(path, \"wb\") as f:\n",
    "        pickle.dump(data, f)"
   ]
  },
  {
   "cell_type": "code",
   "execution_count": 4,
   "metadata": {},
   "outputs": [],
   "source": [
    "def load_pkl(path):\n",
    "    with open(path, \"rb\") as f:\n",
    "        data = pickle.load(f)\n",
    "        \n",
    "    return data"
   ]
  },
  {
   "cell_type": "code",
   "execution_count": 5,
   "metadata": {},
   "outputs": [],
   "source": [
    "def to_dataframe(data):\n",
    "    \n",
    "    df = pd.DataFrame(data)\n",
    "    df.section = df.section.apply(lambda sid: sids[sid])\n",
    "    \n",
    "    return df"
   ]
  },
  {
   "cell_type": "code",
   "execution_count": 6,
   "metadata": {},
   "outputs": [],
   "source": [
    "def make_url(sid, page):\n",
    "    \n",
    "    url_section = \"https://news.naver.com/main/mainNews.nhn?sid1={}\"\n",
    "    url_page = \"&date=%2000:00:00&page={}\"\n",
    "    url = url_section.format(sid) + url_page.format(page)\n",
    "    \n",
    "    return url"
   ]
  },
  {
   "cell_type": "code",
   "execution_count": 7,
   "metadata": {},
   "outputs": [],
   "source": [
    "def get_article_links(url, sid):\n",
    "    \n",
    "    url_article = \"https://news.naver.com/main/read.nhn?mode=LSD&mid=shm&sid1={}&oid={}&aid={}\"\n",
    "    response = requests.get(url)\n",
    "    article_data = eval(response.json()[\"airsResult\"].replace(\"true\", \"True\").replace(\"null\", \"None\"))[\"result\"][str(sid)]\n",
    "    links = [url_article.format(sid, data[\"officeId\"], data[\"articleId\"]) for data in article_data]\n",
    "    \n",
    "    return links"
   ]
  },
  {
   "cell_type": "code",
   "execution_count": 8,
   "metadata": {},
   "outputs": [],
   "source": [
    "def get_article(url):\n",
    "    \n",
    "    response = requests.get(url)\n",
    "    dom = bs(response.content, \"html.parser\")\n",
    "    datetime = dom.select_one(\".sponsor > .t11\").text\n",
    "    title = dom.select_one(\"#articleTitle\").text\n",
    "    text = dom.select_one(\"#articleBodyContents\").text.split(\"{}\")[1].strip()\n",
    "    \n",
    "    return datetime, title, text"
   ]
  },
  {
   "cell_type": "code",
   "execution_count": 9,
   "metadata": {},
   "outputs": [],
   "source": [
    "def crawl_section_page(url, sid, section_articles, th_lock):\n",
    "    \n",
    "    keys = (\n",
    "        \"section\",\n",
    "        \"datetime\",\n",
    "        \"title\",\n",
    "        \"text\",\n",
    "    )\n",
    "    \n",
    "    links = get_article_links(url, sid)\n",
    "    page_articles = [dict(zip(keys, (sid, *get_article(link)))) for link in links]\n",
    "    \n",
    "    th_lock.acquire()\n",
    "    \n",
    "    try:\n",
    "        section_articles += page_articles\n",
    "    finally:\n",
    "        th_lock.release()"
   ]
  },
  {
   "cell_type": "code",
   "execution_count": 10,
   "metadata": {},
   "outputs": [],
   "source": [
    "def crawl_section(start_pg, end_pg, sid, all_articles, mp_lock):\n",
    "    \n",
    "    print(\"Process {} STARTED\".format(sid % 100))\n",
    "    \n",
    "    section_articles = []\n",
    "    pages = range(start_pg, end_pg + 1)\n",
    "    links = [make_url(sid, page) for page in pages]\n",
    "    th_lock = th.Lock()\n",
    "\n",
    "    threads = [th.Thread(target=crawl_section_page, args=(link, sid, section_articles, th_lock)) for link in links]\n",
    "    \n",
    "    for thread in threads:\n",
    "        thread.start()\n",
    "    \n",
    "    for thread in threads:\n",
    "        thread.join()\n",
    "    \n",
    "    mp_lock.acquire()\n",
    "    \n",
    "    try:\n",
    "        all_articles += section_articles\n",
    "    finally:\n",
    "        mp_lock.release()\n",
    "        print(\"Process {} FINISHED\".format(sid % 100))"
   ]
  },
  {
   "cell_type": "code",
   "execution_count": 11,
   "metadata": {},
   "outputs": [],
   "source": [
    "def crawl_naver_news(sids, start_pg, end_pg):\n",
    "    \n",
    "    manager = mp.Manager()    \n",
    "    mp_lock = mp.Lock()\n",
    "    all_articles = manager.list()\n",
    "    \n",
    "    processes = [mp.Process(target=crawl_section, args=(start_pg, end_pg, sid, all_articles, mp_lock)) for sid in sids]\n",
    "    \n",
    "    for process in processes:\n",
    "        process.start()\n",
    "        \n",
    "    for process in processes:\n",
    "        process.join()\n",
    "    \n",
    "    return list(all_articles)"
   ]
  },
  {
   "cell_type": "code",
   "execution_count": 14,
   "metadata": {},
   "outputs": [
    {
     "name": "stdout",
     "output_type": "stream",
     "text": [
      "Process 0 STARTED\n",
      "Process 1 STARTED\n",
      "Process 2 STARTED\n",
      "Process 3 STARTED\n",
      "Process 4 STARTED\n",
      "Process 5 STARTED\n",
      "Process 0 FINISHED\n",
      "Process 4 FINISHED\n",
      "Process 2 FINISHED\n",
      "Process 5 FINISHED\n",
      "Process 3 FINISHED\n",
      "Process 1 FINISHED\n",
      "1200\n",
      "CPU times: user 68.7 ms, sys: 48.5 ms, total: 117 ms\n",
      "Wall time: 18.6 s\n"
     ]
    }
   ],
   "source": [
    "%%time\n",
    "\n",
    "end_pages = [10]\n",
    "\n",
    "for end_page in end_pages:\n",
    "    path = \"naver_{}.pkl\".format(end_page * 120)\n",
    "    df = to_dataframe(crawl_naver_news(sids, 1, end_page))\n",
    "    print(len(df))\n",
    "    save_pkl(path, df)"
   ]
  },
  {
   "cell_type": "code",
   "execution_count": 15,
   "metadata": {},
   "outputs": [],
   "source": [
    "df = load_pkl(\"naver_1200.pkl\")"
   ]
  },
  {
   "cell_type": "code",
   "execution_count": 16,
   "metadata": {},
   "outputs": [
    {
     "data": {
      "text/html": [
       "<div>\n",
       "<style scoped>\n",
       "    .dataframe tbody tr th:only-of-type {\n",
       "        vertical-align: middle;\n",
       "    }\n",
       "\n",
       "    .dataframe tbody tr th {\n",
       "        vertical-align: top;\n",
       "    }\n",
       "\n",
       "    .dataframe thead th {\n",
       "        text-align: right;\n",
       "    }\n",
       "</style>\n",
       "<table border=\"1\" class=\"dataframe\">\n",
       "  <thead>\n",
       "    <tr style=\"text-align: right;\">\n",
       "      <th></th>\n",
       "      <th>datetime</th>\n",
       "      <th>section</th>\n",
       "      <th>text</th>\n",
       "      <th>title</th>\n",
       "    </tr>\n",
       "  </thead>\n",
       "  <tbody>\n",
       "    <tr>\n",
       "      <th>0</th>\n",
       "      <td>2019.07.02. 오후 5:32</td>\n",
       "      <td>정치</td>\n",
       "      <td>3일 후보자 등록 받은 후 5일 의총 열어 선출김재원 의원 경선 요구해 투표 불가피...</td>\n",
       "      <td>한국당 '집안싸움' 예결위원장…5일 의총서 경선 선출 유력</td>\n",
       "    </tr>\n",
       "    <tr>\n",
       "      <th>1</th>\n",
       "      <td>2019.07.02. 오후 5:31</td>\n",
       "      <td>정치</td>\n",
       "      <td>경제보복 발등의 불 떨어졌는데…문 대통령 주재 閣議 열렸지만 대응책 논의 안해靑 \"...</td>\n",
       "      <td>日 도발에 무기력한 정부…문 대통령 침묵, 康외교는 \"상황 보며 연구\"</td>\n",
       "    </tr>\n",
       "    <tr>\n",
       "      <th>2</th>\n",
       "      <td>2019.07.02. 오후 5:30</td>\n",
       "      <td>정치</td>\n",
       "      <td>적자 기관 마저 무리한 추진발전 정비용역기업 소송 채비기존 공무원과 갈등도 심각학교...</td>\n",
       "      <td>공공부문 정규직화...서둘다 禍 키웠다</td>\n",
       "    </tr>\n",
       "    <tr>\n",
       "      <th>3</th>\n",
       "      <td>2019.07.02. 오후 5:29</td>\n",
       "      <td>정치</td>\n",
       "      <td>국회예산처 '한국형 실업 부조'재정 소요 분석내년부터 저소득층 실직자에6개월간 매달...</td>\n",
       "      <td>[단독] 게임기 사는데 줄줄 샌 '청년수당'…세금 6.5兆 쏟아붓겠다는 정부</td>\n",
       "    </tr>\n",
       "    <tr>\n",
       "      <th>4</th>\n",
       "      <td>2019.07.02. 오후 5:29</td>\n",
       "      <td>정치</td>\n",
       "      <td>文대통령, 일산병원 의사·환자들 직접 만나文 \"꼭 필요한 치료, 급여항목 지정안된 ...</td>\n",
       "      <td>'문재인케어' 현장서 살핀 文대통령…\"MRI 가격 묻던 환자들 자연스레 찍게돼\"</td>\n",
       "    </tr>\n",
       "  </tbody>\n",
       "</table>\n",
       "</div>"
      ],
      "text/plain": [
       "              datetime section  \\\n",
       "0  2019.07.02. 오후 5:32      정치   \n",
       "1  2019.07.02. 오후 5:31      정치   \n",
       "2  2019.07.02. 오후 5:30      정치   \n",
       "3  2019.07.02. 오후 5:29      정치   \n",
       "4  2019.07.02. 오후 5:29      정치   \n",
       "\n",
       "                                                text  \\\n",
       "0  3일 후보자 등록 받은 후 5일 의총 열어 선출김재원 의원 경선 요구해 투표 불가피...   \n",
       "1  경제보복 발등의 불 떨어졌는데…문 대통령 주재 閣議 열렸지만 대응책 논의 안해靑 \"...   \n",
       "2  적자 기관 마저 무리한 추진발전 정비용역기업 소송 채비기존 공무원과 갈등도 심각학교...   \n",
       "3  국회예산처 '한국형 실업 부조'재정 소요 분석내년부터 저소득층 실직자에6개월간 매달...   \n",
       "4  文대통령, 일산병원 의사·환자들 직접 만나文 \"꼭 필요한 치료, 급여항목 지정안된 ...   \n",
       "\n",
       "                                          title  \n",
       "0              한국당 '집안싸움' 예결위원장…5일 의총서 경선 선출 유력  \n",
       "1       日 도발에 무기력한 정부…문 대통령 침묵, 康외교는 \"상황 보며 연구\"  \n",
       "2                         공공부문 정규직화...서둘다 禍 키웠다  \n",
       "3    [단독] 게임기 사는데 줄줄 샌 '청년수당'…세금 6.5兆 쏟아붓겠다는 정부  \n",
       "4  '문재인케어' 현장서 살핀 文대통령…\"MRI 가격 묻던 환자들 자연스레 찍게돼\"  "
      ]
     },
     "execution_count": 16,
     "metadata": {},
     "output_type": "execute_result"
    }
   ],
   "source": [
    "df.head()"
   ]
  },
  {
   "cell_type": "code",
   "execution_count": null,
   "metadata": {},
   "outputs": [],
   "source": []
  }
 ],
 "metadata": {
  "kernelspec": {
   "display_name": "Python 3",
   "language": "python",
   "name": "python3"
  },
  "language_info": {
   "codemirror_mode": {
    "name": "ipython",
    "version": 3
   },
   "file_extension": ".py",
   "mimetype": "text/x-python",
   "name": "python",
   "nbconvert_exporter": "python",
   "pygments_lexer": "ipython3",
   "version": "3.7.4"
  },
  "varInspector": {
   "cols": {
    "lenName": 16,
    "lenType": 16,
    "lenVar": 40
   },
   "kernels_config": {
    "python": {
     "delete_cmd_postfix": "",
     "delete_cmd_prefix": "del ",
     "library": "var_list.py",
     "varRefreshCmd": "print(var_dic_list())"
    },
    "r": {
     "delete_cmd_postfix": ") ",
     "delete_cmd_prefix": "rm(",
     "library": "var_list.r",
     "varRefreshCmd": "cat(var_dic_list()) "
    }
   },
   "types_to_exclude": [
    "module",
    "function",
    "builtin_function_or_method",
    "instance",
    "_Feature"
   ],
   "window_display": false
  }
 },
 "nbformat": 4,
 "nbformat_minor": 2
}
